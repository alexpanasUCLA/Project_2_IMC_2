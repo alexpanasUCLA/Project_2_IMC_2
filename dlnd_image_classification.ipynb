{
 "cells": [
  {
   "cell_type": "markdown",
   "metadata": {
    "collapsed": true
   },
   "source": [
    "# Image Classification\n",
    "In this project, you'll classify images from the [CIFAR-10 dataset](https://www.cs.toronto.edu/~kriz/cifar.html).  The dataset consists of airplanes, dogs, cats, and other objects. You'll preprocess the images, then train a convolutional neural network on all the samples. The images need to be normalized and the labels need to be one-hot encoded.  You'll get to apply what you learned and build a convolutional, max pooling, dropout, and fully connected layers.  At the end, you'll get to see your neural network's predictions on the sample images.\n",
    "## Get the Data\n",
    "Run the following cell to download the [CIFAR-10 dataset for python](https://www.cs.toronto.edu/~kriz/cifar-10-python.tar.gz)."
   ]
  },
  {
   "cell_type": "code",
   "execution_count": 6,
   "metadata": {
    "collapsed": false
   },
   "outputs": [
    {
     "name": "stdout",
     "output_type": "stream",
     "text": [
      "All files found!\n"
     ]
    }
   ],
   "source": [
    "\"\"\"\n",
    "DON'T MODIFY ANYTHING IN THIS CELL THAT IS BELOW THIS LINE\n",
    "\"\"\"\n",
    "from urllib.request import urlretrieve\n",
    "from os.path import isfile, isdir\n",
    "from tqdm import tqdm\n",
    "import problem_unittests as tests\n",
    "import tarfile\n",
    "\n",
    "cifar10_dataset_folder_path = 'cifar-10-batches-py'\n",
    "\n",
    "class DLProgress(tqdm):\n",
    "    last_block = 0\n",
    "\n",
    "    def hook(self, block_num=1, block_size=1, total_size=None):\n",
    "        self.total = total_size\n",
    "        self.update((block_num - self.last_block) * block_size)\n",
    "        self.last_block = block_num\n",
    "\n",
    "if not isfile('cifar-10-python.tar.gz'):\n",
    "    with DLProgress(unit='B', unit_scale=True, miniters=1, desc='CIFAR-10 Dataset') as pbar:\n",
    "        urlretrieve(\n",
    "            'https://www.cs.toronto.edu/~kriz/cifar-10-python.tar.gz',\n",
    "            'cifar-10-python.tar.gz',\n",
    "            pbar.hook)\n",
    "\n",
    "if not isdir(cifar10_dataset_folder_path):\n",
    "    with tarfile.open('cifar-10-python.tar.gz') as tar:\n",
    "        tar.extractall()\n",
    "        tar.close()\n",
    "\n",
    "\n",
    "tests.test_folder_path(cifar10_dataset_folder_path)"
   ]
  },
  {
   "cell_type": "markdown",
   "metadata": {},
   "source": [
    "## Explore the Data\n",
    "The dataset is broken into batches to prevent your machine from running out of memory.  The CIFAR-10 dataset consists of 5 batches, named `data_batch_1`, `data_batch_2`, etc.. Each batch contains the labels and images that are one of the following:\n",
    "* airplane\n",
    "* automobile\n",
    "* bird\n",
    "* cat\n",
    "* deer\n",
    "* dog\n",
    "* frog\n",
    "* horse\n",
    "* ship\n",
    "* truck\n",
    "\n",
    "Understanding a dataset is part of making predictions on the data.  Play around with the code cell below by changing the `batch_id` and `sample_id`. The `batch_id` is the id for a batch (1-5). The `sample_id` is the id for a image and label pair in the batch.\n",
    "\n",
    "Ask yourself \"What are all possible labels?\", \"What is the range of values for the image data?\", \"Are the labels in order or random?\".  Answers to questions like these will help you preprocess the data and end up with better predictions."
   ]
  },
  {
   "cell_type": "code",
   "execution_count": 7,
   "metadata": {
    "collapsed": false
   },
   "outputs": [
    {
     "name": "stdout",
     "output_type": "stream",
     "text": [
      "\n",
      "Stats of batch 5:\n",
      "Samples: 10000\n",
      "Label Counts: {0: 1014, 1: 1014, 2: 952, 3: 1016, 4: 997, 5: 1025, 6: 980, 7: 977, 8: 1003, 9: 1022}\n",
      "First 20 Labels: [1, 8, 5, 1, 5, 7, 4, 3, 8, 2, 7, 2, 0, 1, 5, 9, 6, 2, 0, 8]\n",
      "\n",
      "Example of Image 1:\n",
      "Image - Min Value: 1 Max Value: 244\n",
      "Image - Shape: (32, 32, 3)\n",
      "Label - Label Id: 8 Name: ship\n"
     ]
    },
    {
     "data": {
      "image/png": "[encoded data removed]",
      "text/plain": [
       "<matplotlib.figure.Figure at 0x122a98978>"
      ]
     },
     "metadata": {
      "image/png": {
       "height": 250,
       "width": 253
      }
     },
     "output_type": "display_data"
    }
   ],
   "source": [
    "%matplotlib inline\n",
    "%config InlineBackend.figure_format = 'retina'\n",
    "\n",
    "import helper\n",
    "import numpy as np\n",
    "\n",
    "# Explore the dataset\n",
    "batch_id = 5\n",
    "sample_id = 1\n",
    "helper.display_stats(cifar10_dataset_folder_path, batch_id, sample_id)"
   ]
  },
  {
   "cell_type": "markdown",
   "metadata": {},
   "source": [
    "## Implement Preprocess Functions\n",
    "### Normalize\n",
    "In the cell below, implement the `normalize` function to take in image data, `x`, and return it as a normalized Numpy array. The values should be in the range of 0 to 1, inclusive.  The return object should be the same shape as `x`."
   ]
  },
  {
   "cell_type": "code",
   "execution_count": 8,
   "metadata": {
    "collapsed": false
   },
   "outputs": [
    {
     "name": "stdout",
     "output_type": "stream",
     "text": [
      "Tests Passed\n"
     ]
    }
   ],
   "source": [
    "def normalize(x):\n",
    "    \"\"\"\n",
    "    Normalize a list of sample image data in the range of 0 to 1\n",
    "    : x: List of image data.  The image shape is (32, 32, 3)\n",
    "    : return: Numpy array of normalize data\n",
    "    \"\"\"\n",
    "    # TODO: Implement Function\n",
    "    x = np.array(x)\n",
    "    x_min = x.min()\n",
    "    x_max = x.max()\n",
    "    x = (x - x_min) / (x_max - x_min)\n",
    "    \n",
    "    return x \n",
    "\n",
    "\n",
    "\"\"\"\n",
    "DON'T MODIFY ANYTHING IN THIS CELL THAT IS BELOW THIS LINE\n",
    "\"\"\"\n",
    "tests.test_normalize(normalize)"
   ]
  },
  {
   "cell_type": "markdown",
   "metadata": {},
   "source": [
    "### One-hot encode\n",
    "Just like the previous code cell, you'll be implementing a function for preprocessing.  This time, you'll implement the `one_hot_encode` function. The input, `x`, are a list of labels.  Implement the function to return the list of labels as One-Hot encoded Numpy array.  The possible values for labels are 0 to 9. The one-hot encoding function should return the same encoding for each value between each call to `one_hot_encode`.  Make sure to save the map of encodings outside the function.\n",
    "\n",
    "Hint: Don't reinvent the wheel."
   ]
  },
  {
   "cell_type": "code",
   "execution_count": null,
   "metadata": {
    "collapsed": true
   },
   "outputs": [],
   "source": []
  },
  {
   "cell_type": "code",
   "execution_count": 9,
   "metadata": {
    "collapsed": false
   },
   "outputs": [
    {
     "name": "stdout",
     "output_type": "stream",
     "text": [
      "Tests Passed\n"
     ]
    }
   ],
   "source": [
    "from sklearn.preprocessing import label_binarize \n",
    "from sklearn import preprocessing \n",
    "n_values = [0,1,2,3,4,5,6,7,8,9]\n",
    "def one_hot_encode(x):\n",
    "    \"\"\"\n",
    "    One hot encode a list of sample labels. Return a one-hot encoded vector for each label.\n",
    "    : x: List of sample Labels\n",
    "    : return: Numpy array of one-hot encoded labels\n",
    "    \"\"\"\n",
    "    # TODO: Implement Function\n",
    "    x = np.array(x)\n",
    "    return label_binarize(x,classes = n_values)\n",
    "\n",
    "\n",
    "\"\"\"\n",
    "DON'T MODIFY ANYTHING IN THIS CELL THAT IS BELOW THIS LINE\n",
    "\"\"\"\n",
    "tests.test_one_hot_encode(one_hot_encode)"
   ]
  },
  {
   "cell_type": "markdown",
   "metadata": {},
   "source": [
    "### Randomize Data\n",
    "As you saw from exploring the data above, the order of the samples are randomized.  It doesn't hurt to randomize it again, but you don't need to for this dataset."
   ]
  },
  {
   "cell_type": "markdown",
   "metadata": {},
   "source": [
    "## Preprocess all the data and save it\n",
    "Running the code cell below will preprocess all the CIFAR-10 data and save it to file. The code below also uses 10% of the training data for validation."
   ]
  },
  {
   "cell_type": "code",
   "execution_count": 10,
   "metadata": {
    "collapsed": false
   },
   "outputs": [],
   "source": [
    "\"\"\"\n",
    "DON'T MODIFY ANYTHING IN THIS CELL\n",
    "\"\"\"\n",
    "# Preprocess Training, Validation, and Testing Data\n",
    "helper.preprocess_and_save_data(cifar10_dataset_folder_path, normalize, one_hot_encode)"
   ]
  },
  {
   "cell_type": "markdown",
   "metadata": {},
   "source": [
    "# Check Point\n",
    "This is your first checkpoint.  If you ever decide to come back to this notebook or have to restart the notebook, you can start from here.  The preprocessed data has been saved to disk."
   ]
  },
  {
   "cell_type": "code",
   "execution_count": 11,
   "metadata": {
    "collapsed": true
   },
   "outputs": [],
   "source": [
    "\"\"\"\n",
    "DON'T MODIFY ANYTHING IN THIS CELL\n",
    "\"\"\"\n",
    "import pickle\n",
    "import problem_unittests as tests\n",
    "import helper\n",
    "\n",
    "# Load the Preprocessed Validation data\n",
    "valid_features, valid_labels = pickle.load(open('preprocess_validation.p', mode='rb'))"
   ]
  },
  {
   "cell_type": "markdown",
   "metadata": {},
   "source": [
    "## Build the network\n",
    "For the neural network, you'll build each layer into a function.  Most of the code you've seen has been outside of functions. To test your code more thoroughly, we require that you put each layer in a function.  This allows us to give you better feedback and test for simple mistakes using our unittests before you submit your project.\n",
    "\n",
    "If you're finding it hard to dedicate enough time for this course a week, we've provided a small shortcut to this part of the project. In the next couple of problems, you'll have the option to use [TensorFlow Layers](https://www.tensorflow.org/api_docs/python/tf/layers) or [TensorFlow Layers (contrib)](https://www.tensorflow.org/api_guides/python/contrib.layers) to build each layer, except \"Convolutional & Max Pooling\" layer.  TF Layers is similar to Keras's and TFLearn's abstraction to layers, so it's easy to pickup.\n",
    "\n",
    "If you would like to get the most of this course, try to solve all the problems without TF Layers.  Let's begin!\n",
    "### Input\n",
    "The neural network needs to read the image data, one-hot encoded labels, and dropout keep probability. Implement the following functions\n",
    "* Implement `neural_net_image_input`\n",
    " * Return a [TF Placeholder](https://www.tensorflow.org/api_docs/python/tf/placeholder)\n",
    " * Set the shape using `image_shape` with batch size set to `None`.\n",
    " * Name the TensorFlow placeholder \"x\" using the TensorFlow `name` parameter in the [TF Placeholder](https://www.tensorflow.org/api_docs/python/tf/placeholder).\n",
    "* Implement `neural_net_label_input`\n",
    " * Return a [TF Placeholder](https://www.tensorflow.org/api_docs/python/tf/placeholder)\n",
    " * Set the shape using `n_classes` with batch size set to `None`.\n",
    " * Name the TensorFlow placeholder \"y\" using the TensorFlow `name` parameter in the [TF Placeholder](https://www.tensorflow.org/api_docs/python/tf/placeholder).\n",
    "* Implement `neural_net_keep_prob_input`\n",
    " * Return a [TF Placeholder](https://www.tensorflow.org/api_docs/python/tf/placeholder) for dropout keep probability.\n",
    " * Name the TensorFlow placeholder \"keep_prob\" using the TensorFlow `name` parameter in the [TF Placeholder](https://www.tensorflow.org/api_docs/python/tf/placeholder).\n",
    "\n",
    "These names will be used at the end of the project to load your saved model.\n",
    "\n",
    "Note: `None` for shapes in TensorFlow allow for a dynamic size."
   ]
  },
  {
   "cell_type": "code",
   "execution_count": null,
   "metadata": {
    "collapsed": true
   },
   "outputs": [],
   "source": []
  },
  {
   "cell_type": "code",
   "execution_count": 12,
   "metadata": {
    "collapsed": false
   },
   "outputs": [
    {
     "name": "stdout",
     "output_type": "stream",
     "text": [
      "Image Input Tests Passed.\n",
      "Label Input Tests Passed.\n",
      "Keep Prob Tests Passed.\n"
     ]
    }
   ],
   "source": [
    "import tensorflow as tf\n",
    "\n",
    "def neural_net_image_input(image_shape):\n",
    "    \"\"\"\n",
    "    Return a Tensor for a bach of image input\n",
    "    : image_shape: Shape of the images\n",
    "    : return: Tensor for image input.\n",
    "    \"\"\"\n",
    "    # TODO: Implement Function\n",
    "    image_height = image_shape[0]\n",
    "    image_width = image_shape[1]\n",
    "    color_channels = image_shape[2]\n",
    "\n",
    "    return tf.placeholder(tf.float32,shape=[None, image_height, image_width, color_channels], name = 'x')\n",
    "\n",
    "\n",
    "def neural_net_label_input(n_classes):\n",
    "    \"\"\"\n",
    "    Return a Tensor for a batch of label input\n",
    "    : n_classes: Number of classes\n",
    "    : return: Tensor for label input.\n",
    "    \"\"\"\n",
    "    # TODO: Implement Function\n",
    "    return tf.placeholder(tf.float32,shape = [None,n_classes],name = 'y')\n",
    "\n",
    "\n",
    "def neural_net_keep_prob_input():\n",
    "    \"\"\"\n",
    "    Return a Tensor for keep probability\n",
    "    : return: Tensor for keep probability.\n",
    "    \"\"\"\n",
    "    # TODO: Implement Function\n",
    "    return tf.placeholder(tf.float32,name = 'keep_prob')\n",
    "\n",
    "\n",
    "\"\"\"\n",
    "DON'T MODIFY ANYTHING IN THIS CELL THAT IS BELOW THIS LINE\n",
    "\"\"\"\n",
    "tf.reset_default_graph()\n",
    "tests.test_nn_image_inputs(neural_net_image_input)\n",
    "tests.test_nn_label_inputs(neural_net_label_input)\n",
    "tests.test_nn_keep_prob_inputs(neural_net_keep_prob_input)"
   ]
  },
  {
   "cell_type": "markdown",
   "metadata": {},
   "source": [
    "### Convolution and Max Pooling Layer\n",
    "Convolution layers have a lot of success with images. For this code cell, you should implement the function `conv2d_maxpool` to apply convolution then max pooling:\n",
    "* Create the weight and bias using `conv_ksize`, `conv_num_outputs` and the shape of `x_tensor`.\n",
    "* Apply a convolution to `x_tensor` using weight and `conv_strides`.\n",
    " * We recommend you use same padding, but you're welcome to use any padding.\n",
    "* Add bias\n",
    "* Add a nonlinear activation to the convolution.\n",
    "* Apply Max Pooling using `pool_ksize` and `pool_strides`.\n",
    " * We recommend you use same padding, but you're welcome to use any padding.\n",
    "\n",
    "Note: You **can't** use [TensorFlow Layers](https://www.tensorflow.org/api_docs/python/tf/layers) or [TensorFlow Layers (contrib)](https://www.tensorflow.org/api_guides/python/contrib.layers) for this layer.  You're free to use any TensorFlow package for all the other layers."
   ]
  },
  {
   "cell_type": "code",
   "execution_count": 52,
   "metadata": {
    "collapsed": false
   },
   "outputs": [
    {
     "name": "stdout",
     "output_type": "stream",
     "text": [
      "Tests Passed\n"
     ]
    }
   ],
   "source": [
    "def conv2d_maxpool(x_tensor, conv_num_outputs, conv_ksize, conv_strides, pool_ksize, pool_strides):\n",
    "    \"\"\"\n",
    "    Apply convolution then max pooling to x_tensor\n",
    "    :param x_tensor: TensorFlow Tensor\n",
    "    :param conv_num_outputs: Number of outputs for the convolutional layer\n",
    "    :param conv_strides: Stride 2-D Tuple for convolution\n",
    "    :param pool_ksize: kernal size 2-D Tuple for pool\n",
    "    :param pool_strides: Stride 2-D Tuple for pool\n",
    "    : return: A tensor that represents convolution and max pooling of x_tensor\n",
    "    \"\"\"\n",
    "    # TODO: Implement Function\n",
    "    # Convolutional layer \n",
    "    filter_size_height = conv_ksize[0]\n",
    "    filter_size_width = conv_ksize[1] \n",
    "    \n",
    "    color_channels = int(x_tensor.get_shape()[3])\n",
    "    k_output = conv_num_outputs \n",
    "    \n",
    "    weight = tf.Variable(tf.truncated_normal([filter_size_height, filter_size_width, color_channels, k_output],stddev=0.1))\n",
    "    bias = tf.Variable(tf.zeros(k_output))\n",
    "    \n",
    "    input_height = conv_strides[0]\n",
    "    input_width = conv_strides[1]\n",
    "    \n",
    "    conv_layer = tf.nn.conv2d(x_tensor, weight, strides=[1, input_height, input_width, 1], padding='SAME')\n",
    "    conv_layer = tf.nn.bias_add(conv_layer, bias)\n",
    "    conv_layer = tf.nn.relu(conv_layer)\n",
    "    \n",
    "    #Pooling layer \n",
    "    pool_filter_size_height = pool_ksize[0]\n",
    "    pool_filter_size_width = pool_ksize[1]\n",
    "    pool_stride_height = pool_strides[0]\n",
    "    pool_stride_width = pool_strides[1]\n",
    "    \n",
    "    return tf.nn.max_pool(conv_layer,ksize = [1, pool_filter_size_height, pool_filter_size_width,1],\n",
    "    strides = [1, pool_stride_height, pool_stride_width,1], padding='SAME') \n",
    "\n",
    "\n",
    "\"\"\"\n",
    "DON'T MODIFY ANYTHING IN THIS CELL THAT IS BELOW THIS LINE\n",
    "\"\"\"\n",
    "tests.test_con_pool(conv2d_maxpool)"
   ]
  },
  {
   "cell_type": "code",
   "execution_count": null,
   "metadata": {
    "collapsed": true
   },
   "outputs": [],
   "source": []
  },
  {
   "cell_type": "markdown",
   "metadata": {},
   "source": [
    "### Flatten Layer\n",
    "Implement the `flatten` function to change the dimension of `x_tensor` from a 4-D tensor to a 2-D tensor.  The output should be the shape (*Batch Size*, *Flattened Image Size*). You can use [TensorFlow Layers](https://www.tensorflow.org/api_docs/python/tf/layers) or [TensorFlow Layers (contrib)](https://www.tensorflow.org/api_guides/python/contrib.layers) for this layer."
   ]
  },
  {
   "cell_type": "code",
   "execution_count": 14,
   "metadata": {
    "collapsed": false
   },
   "outputs": [
    {
     "name": "stdout",
     "output_type": "stream",
     "text": [
      "Tests Passed\n"
     ]
    }
   ],
   "source": [
    "def flatten(x_tensor):\n",
    "    \"\"\"\n",
    "    Flatten x_tensor to (Batch Size, Flattened Image Size)\n",
    "    : x_tensor: A tensor of size (Batch Size, ...), where ... are the image dimensions.\n",
    "    : return: A tensor of size (Batch Size, Flattened Image Size).\n",
    "    \"\"\"\n",
    "    # TODO: Implement Function\n",
    "\n",
    "    return  tf.reshape(x_tensor,[-1,np.prod(x_tensor.get_shape()[1:].as_list())])\n",
    "\n",
    "\n",
    "\"\"\"\n",
    "DON'T MODIFY ANYTHING IN THIS CELL THAT IS BELOW THIS LINE\n",
    "\"\"\"\n",
    "tests.test_flatten(flatten)"
   ]
  },
  {
   "cell_type": "markdown",
   "metadata": {},
   "source": [
    "### Fully-Connected Layer\n",
    "Implement the `fully_conn` function to apply a fully connected layer to `x_tensor` with the shape (*Batch Size*, *num_outputs*). You can use [TensorFlow Layers](https://www.tensorflow.org/api_docs/python/tf/layers) or [TensorFlow Layers (contrib)](https://www.tensorflow.org/api_guides/python/contrib.layers) for this layer."
   ]
  },
  {
   "cell_type": "code",
   "execution_count": 69,
   "metadata": {
    "collapsed": false
   },
   "outputs": [
    {
     "name": "stdout",
     "output_type": "stream",
     "text": [
      "Tests Passed\n"
     ]
    }
   ],
   "source": [
    "def fully_conn(x_tensor, num_outputs):\n",
    "    \n",
    "    \"\"\"\n",
    "    Apply a fully connected layer to x_tensor using weight and bias\n",
    "    : x_tensor: A 2-D tensor where the first dimension is batch size.\n",
    "    : num_outputs: The number of output that the new tensor should be.\n",
    "    : return: A 2-D tensor where the second dimension is num_outputs.\n",
    "    \"\"\"\n",
    "     # TODO: Implement Function\n",
    "    \n",
    "    input_features = int(x_tensor.get_shape()[1])\n",
    "    bias = tf.Variable(tf.zeros(num_outputs))\n",
    "    weights = tf.Variable(tf.truncated_normal([input_features,num_outputs],stddev = 0.1))\n",
    "    fc = tf.nn.bias_add(tf.matmul(x_tensor,weights),bias)\n",
    "                      \n",
    "            \n",
    "    return tf.nn.relu(fc) \n",
    "\n",
    "\"\"\"\n",
    "DON'T MODIFY ANYTHING IN THIS CELL THAT IS BELOW THIS LINE\n",
    "\"\"\"\n",
    "tests.test_fully_conn(fully_conn)"
   ]
  },
  {
   "cell_type": "markdown",
   "metadata": {},
   "source": [
    "### Output Layer\n",
    "Implement the `output` function to apply a fully connected layer to `x_tensor` with the shape (*Batch Size*, *num_outputs*). You can use [TensorFlow Layers](https://www.tensorflow.org/api_docs/python/tf/layers) or [TensorFlow Layers (contrib)](https://www.tensorflow.org/api_guides/python/contrib.layers) for this layer.\n",
    "\n",
    "Note: Activation, softmax, or cross entropy shouldn't be applied to this."
   ]
  },
  {
   "cell_type": "code",
   "execution_count": 141,
   "metadata": {
    "collapsed": false
   },
   "outputs": [
    {
     "name": "stdout",
     "output_type": "stream",
     "text": [
      "Tests Passed\n"
     ]
    }
   ],
   "source": [
    "def output(x_tensor, num_outputs):\n",
    "    \"\"\"\n",
    "    Apply a output layer to x_tensor using weight and bias\n",
    "    : x_tensor: A 2-D tensor where the first dimension is batch size.\n",
    "    : num_outputs: The number of output that the new tensor should be.\n",
    "    : return: A 2-D tensor where the second dimension is num_outputs.\n",
    "    \"\"\"\n",
    "    # TODO: Implement Function\n",
    "    \n",
    "    input_features = int(x_tensor.get_shape()[1])\n",
    "    bias = tf.Variable(tf.zeros(num_outputs))\n",
    "    weights = tf.Variable(tf.truncated_normal([input_features,num_outputs],stddev = 0.1))\n",
    "    out = tf.nn.bias_add(tf.matmul(x_tensor,weights),bias)\n",
    "    \n",
    "    \n",
    "    \n",
    "    return out \n",
    "\n",
    "\n",
    "\"\"\"\n",
    "DON'T MODIFY ANYTHING IN THIS CELL THAT IS BELOW THIS LINE\n",
    "\"\"\"\n",
    "tests.test_output(output)"
   ]
  },
  {
   "cell_type": "markdown",
   "metadata": {},
   "source": [
    "### Create Convolutional Model\n",
    "Implement the function `conv_net` to create a convolutional neural network model. The function takes in a batch of images, `x`, and outputs logits.  Use the layers you created above to create this model:\n",
    "\n",
    "* Apply 1, 2, or 3 Convolution and Max Pool layers\n",
    "* Apply a Flatten Layer\n",
    "* Apply 1, 2, or 3 Fully Connected Layers\n",
    "* Apply an Output Layer\n",
    "* Return the output\n",
    "* Apply [TensorFlow's Dropout](https://www.tensorflow.org/api_docs/python/tf/nn/dropout) to one or more layers in the model using `keep_prob`. "
   ]
  },
  {
   "cell_type": "code",
   "execution_count": 142,
   "metadata": {
    "collapsed": false
   },
   "outputs": [
    {
     "name": "stdout",
     "output_type": "stream",
     "text": [
      "Neural Network Built!\n"
     ]
    }
   ],
   "source": [
    "def conv_net(x, keep_prob):\n",
    "    \"\"\"\n",
    "    Create a convolutional neural network model\n",
    "    : x: Placeholder tensor that holds image data.\n",
    "    : keep_prob: Placeholder tensor that hold dropout keep probability.\n",
    "    : return: Tensor that represents logits\n",
    "    \"\"\"\n",
    "    \n",
    "    # TODO: Apply 1, 2, or 3 Convolution and Max Pool layers\n",
    "    #    Play around with different number of outputs, kernel size and stride\n",
    "    # Function Definition from Above:\n",
    "    #    conv2d_maxpool(x_tensor, conv_num_outputs, conv_ksize, conv_strides, pool_ksize, pool_strides)\n",
    "    conv_num_outputs = 64\n",
    "    conv_ksize = (2,2) #conv_ksize 2-d tuple for convolutional filter \n",
    "    conv_strides = (2,2) #conv_strides 2-d Tuple for strides \n",
    "    pool_ksize = (2,2) #pool kernel 2-d Tuple\n",
    "    pool_strides = (2,2) #pool_strides 2-d Tuple \n",
    "    \n",
    "    conv_1 = conv2d_maxpool(x,conv_num_outputs,conv_ksize,conv_strides,pool_ksize,pool_strides)\n",
    "    conv_2 = conv2d_maxpool(conv_1,128,(2,2),(1,1),(2,2),(2,2))\n",
    "    conv_2 = tf.nn.dropout(conv_2,keep_prob)\n",
    " \n",
    "    \n",
    "    \n",
    "    # TODO: Apply a Flatten Layer\n",
    "    # Function Definition from Above:\n",
    "    #   flatten(x_tensor)\n",
    "    \n",
    "    flat = flatten(conv_2)\n",
    "    \n",
    "    # TODO: Apply 1, 2, or 3 Fully Connected Layers\n",
    "    #    Play around with different number of outputs\n",
    "    # Function Definition from Above:\n",
    "    #   fully_conn(x_tensor, num_outputs)\n",
    "    num_outputs = 64\n",
    "    fc1 = fully_conn(flat,num_outputs)\n",
    "    fc1 = tf.nn.dropout(fc1,keep_prob)\n",
    "    fc1 = fully_conn(fc1,64)\n",
    "    fc1 = tf.nn.dropout(fc1, keep_prob)\n",
    "    \n",
    "    # TODO: Apply an Output Layer\n",
    "    #    Set this to the number of classes\n",
    "    # Function Definition from Above:\n",
    "    #   output(x_tensor, num_outputs)\n",
    "    \n",
    "    num_classes = 10\n",
    "    out = output(fc1,num_classes)\n",
    "    \n",
    "    # TODO: return output\n",
    "    return out\n",
    "\n",
    "\n",
    "\"\"\"\n",
    "DON'T MODIFY ANYTHING IN THIS CELL THAT IS BELOW THIS LINE\n",
    "\"\"\"\n",
    "\n",
    "##############################\n",
    "## Build the Neural Network ##\n",
    "##############################\n",
    "\n",
    "# Remove previous weights, bias, inputs, etc..\n",
    "tf.reset_default_graph()\n",
    "\n",
    "# Inputs\n",
    "x = neural_net_image_input((32, 32, 3))\n",
    "y = neural_net_label_input(10)\n",
    "keep_prob = neural_net_keep_prob_input()\n",
    "\n",
    "# Model\n",
    "logits = conv_net(x, keep_prob)\n",
    "\n",
    "# Name logits Tensor, so that is can be loaded from disk after training\n",
    "logits = tf.identity(logits, name='logits')\n",
    "\n",
    "# Loss and Optimizer\n",
    "cost = tf.reduce_mean(tf.nn.softmax_cross_entropy_with_logits(logits=logits, labels=y))\n",
    "optimizer = tf.train.AdamOptimizer().minimize(cost)\n",
    "\n",
    "# Accuracy\n",
    "correct_pred = tf.equal(tf.argmax(logits, 1), tf.argmax(y, 1))\n",
    "accuracy = tf.reduce_mean(tf.cast(correct_pred, tf.float32), name='accuracy')\n",
    "\n",
    "tests.test_conv_net(conv_net)"
   ]
  },
  {
   "cell_type": "markdown",
   "metadata": {},
   "source": [
    "## Train the Neural Network\n",
    "### Single Optimization\n",
    "Implement the function `train_neural_network` to do a single optimization.  The optimization should use `optimizer` to optimize in `session` with a `feed_dict` of the following:\n",
    "* `x` for image input\n",
    "* `y` for labels\n",
    "* `keep_prob` for keep probability for dropout\n",
    "\n",
    "This function will be called for each batch, so `tf.global_variables_initializer()` has already been called.\n",
    "\n",
    "Note: Nothing needs to be returned. This function is only optimizing the neural network."
   ]
  },
  {
   "cell_type": "code",
   "execution_count": 143,
   "metadata": {
    "collapsed": false
   },
   "outputs": [
    {
     "name": "stdout",
     "output_type": "stream",
     "text": [
      "Tests Passed\n"
     ]
    }
   ],
   "source": [
    "def train_neural_network(session, optimizer, keep_probability, feature_batch, label_batch):\n",
    "    \"\"\"\n",
    "    Optimize the session on a batch of images and labels\n",
    "    : session: Current TensorFlow session\n",
    "    : optimizer: TensorFlow optimizer function\n",
    "    : keep_probability: keep probability\n",
    "    : feature_batch: Batch of Numpy image data\n",
    "    : label_batch: Batch of Numpy label data\n",
    "    \"\"\"\n",
    "    \n",
    "    # TODO: Implement Function\n",
    "    session.run(optimizer, feed_dict={x: feature_batch,y: label_batch,keep_prob: keep_probability})\n",
    "\n",
    "\n",
    "\n",
    "\"\"\"\n",
    "DON'T MODIFY ANYTHING IN THIS CELL THAT IS BELOW THIS LINE\n",
    "\"\"\"\n",
    "tests.test_train_nn(train_neural_network)"
   ]
  },
  {
   "cell_type": "markdown",
   "metadata": {},
   "source": [
    "### Show Stats\n",
    "Implement the function `print_stats` to print loss and validation accuracy.  Use the global variables `valid_features` and `valid_labels` to calculate validation accuracy.  Use a keep probability of `1.0` to calculate the loss and validation accuracy."
   ]
  },
  {
   "cell_type": "code",
   "execution_count": 48,
   "metadata": {
    "collapsed": false
   },
   "outputs": [],
   "source": [
    "def print_stats(session, feature_batch, label_batch, cost, accuracy):\n",
    "    \"\"\"\n",
    "    Print information about loss and validation accuracy\n",
    "    : session: Current TensorFlow session\n",
    "    : feature_batch: Batch of Numpy image data\n",
    "    : label_batch: Batch of Numpy label data\n",
    "    : cost: TensorFlow cost function\n",
    "    : accuracy: TensorFlow accuracy function\n",
    "    \"\"\"\n",
    "    # TODO: Implement Function\n",
    "    loss = session.run(cost, feed_dict={\n",
    "                x: feature_batch,\n",
    "                y: label_batch,\n",
    "                keep_prob: 1.0})\n",
    "    valid_acc = session.run(accuracy, feed_dict={\n",
    "                x: valid_features,\n",
    "                y: valid_labels,\n",
    "                keep_prob: 1.0})               \n",
    "    test_acc = session.run(accuracy, feed_dict={x: feature_batch,y: label_batch,keep_prob: 1.})\n",
    "  \n",
    "    print('Loss at {}'.format(loss), \n",
    "          'Validation Accuracy at {}'.format(valid_acc),'Testing Accuracy: {}'.format(test_acc))"
   ]
  },
  {
   "cell_type": "markdown",
   "metadata": {},
   "source": [
    "### Hyperparameters\n",
    "Tune the following parameters:\n",
    "* Set `epochs` to the number of iterations until the network stops learning or start overfitting\n",
    "* Set `batch_size` to the highest number that your machine has memory for.  Most people set them to common sizes of memory:\n",
    " * 64\n",
    " * 128\n",
    " * 256\n",
    " * ...\n",
    "* Set `keep_probability` to the probability of keeping a node using dropout"
   ]
  },
  {
   "cell_type": "code",
   "execution_count": 140,
   "metadata": {
    "collapsed": true
   },
   "outputs": [],
   "source": [
    "# TODO: Tune Parameters\n",
    "epochs = 20\n",
    "batch_size = 128\n",
    "keep_probability = 0.55"
   ]
  },
  {
   "cell_type": "markdown",
   "metadata": {},
   "source": [
    "### Train on a Single CIFAR-10 Batch\n",
    "Instead of training the neural network on all the CIFAR-10 batches of data, let's use a single batch. This should save time while you iterate on the model to get a better accuracy.  Once the final validation accuracy is 50% or greater, run the model on all the data in the next section."
   ]
  },
  {
   "cell_type": "code",
   "execution_count": 144,
   "metadata": {
    "collapsed": false
   },
   "outputs": [
    {
     "name": "stdout",
     "output_type": "stream",
     "text": [
      "Checking the Training on a Single Batch...\n",
      "Epoch  1, CIFAR-10 Batch 1:  Loss at 2.229215383529663 Validation Accuracy at 0.21199999749660492 Testing Accuracy: 0.25\n",
      "Epoch  2, CIFAR-10 Batch 1:  Loss at 2.1260104179382324 Validation Accuracy at 0.28360000252723694 Testing Accuracy: 0.20000000298023224\n",
      "Epoch  3, CIFAR-10 Batch 1:  Loss at 1.9888389110565186 Validation Accuracy at 0.3546000123023987 Testing Accuracy: 0.3499999940395355\n",
      "Epoch  4, CIFAR-10 Batch 1:  Loss at 1.887801170349121 Validation Accuracy at 0.38580000400543213 Testing Accuracy: 0.44999998807907104\n",
      "Epoch  5, CIFAR-10 Batch 1:  Loss at 1.7826461791992188 Validation Accuracy at 0.40959998965263367 Testing Accuracy: 0.4749999940395355\n",
      "Epoch  6, CIFAR-10 Batch 1:  Loss at 1.7255058288574219 Validation Accuracy at 0.4221999943256378 Testing Accuracy: 0.42500001192092896\n",
      "Epoch  7, CIFAR-10 Batch 1:  Loss at 1.6031455993652344 Validation Accuracy at 0.43380001187324524 Testing Accuracy: 0.550000011920929\n",
      "Epoch  8, CIFAR-10 Batch 1:  Loss at 1.5270726680755615 Validation Accuracy at 0.45100000500679016 Testing Accuracy: 0.6000000238418579\n",
      "Epoch  9, CIFAR-10 Batch 1:  Loss at 1.524118185043335 Validation Accuracy at 0.4620000123977661 Testing Accuracy: 0.550000011920929\n",
      "Epoch 10, CIFAR-10 Batch 1:  Loss at 1.492116928100586 Validation Accuracy at 0.4643999934196472 Testing Accuracy: 0.550000011920929\n",
      "Epoch 11, CIFAR-10 Batch 1:  Loss at 1.4063431024551392 Validation Accuracy at 0.47940000891685486 Testing Accuracy: 0.550000011920929\n",
      "Epoch 12, CIFAR-10 Batch 1:  Loss at 1.4073479175567627 Validation Accuracy at 0.49320000410079956 Testing Accuracy: 0.574999988079071\n",
      "Epoch 13, CIFAR-10 Batch 1:  Loss at 1.3341953754425049 Validation Accuracy at 0.4957999885082245 Testing Accuracy: 0.6000000238418579\n",
      "Epoch 14, CIFAR-10 Batch 1:  Loss at 1.2898902893066406 Validation Accuracy at 0.5148000121116638 Testing Accuracy: 0.574999988079071\n",
      "Epoch 15, CIFAR-10 Batch 1:  Loss at 1.244982361793518 Validation Accuracy at 0.5031999945640564 Testing Accuracy: 0.6000000238418579\n",
      "Epoch 16, CIFAR-10 Batch 1:  Loss at 1.2594091892242432 Validation Accuracy at 0.5041999816894531 Testing Accuracy: 0.6000000238418579\n",
      "Epoch 17, CIFAR-10 Batch 1:  Loss at 1.1712089776992798 Validation Accuracy at 0.5230000019073486 Testing Accuracy: 0.699999988079071\n",
      "Epoch 18, CIFAR-10 Batch 1:  Loss at 1.1280313730239868 Validation Accuracy at 0.5375999808311462 Testing Accuracy: 0.625\n",
      "Epoch 19, CIFAR-10 Batch 1:  Loss at 1.0670793056488037 Validation Accuracy at 0.5392000079154968 Testing Accuracy: 0.6000000238418579\n",
      "Epoch 20, CIFAR-10 Batch 1:  Loss at 1.0689700841903687 Validation Accuracy at 0.5418000221252441 Testing Accuracy: 0.625\n"
     ]
    }
   ],
   "source": [
    "\"\"\"\n",
    "DON'T MODIFY ANYTHING IN THIS CELL\n",
    "\"\"\"\n",
    "print('Checking the Training on a Single Batch...')\n",
    "with tf.Session() as sess:\n",
    "    # Initializing the variables\n",
    "    sess.run(tf.global_variables_initializer())\n",
    "    \n",
    "    # Training cycle\n",
    "    for epoch in range(epochs):\n",
    "        batch_i = 1\n",
    "        for batch_features, batch_labels in helper.load_preprocess_training_batch(batch_i, batch_size):\n",
    "            train_neural_network(sess, optimizer, keep_probability, batch_features, batch_labels)\n",
    "        print('Epoch {:>2}, CIFAR-10 Batch {}:  '.format(epoch + 1, batch_i), end='')\n",
    "        print_stats(sess, batch_features, batch_labels, cost, accuracy)"
   ]
  },
  {
   "cell_type": "markdown",
   "metadata": {},
   "source": [
    "### Fully Train the Model\n",
    "Now that you got a good accuracy with a single CIFAR-10 batch, try it with all five batches."
   ]
  },
  {
   "cell_type": "code",
   "execution_count": 145,
   "metadata": {
    "collapsed": false
   },
   "outputs": [
    {
     "name": "stdout",
     "output_type": "stream",
     "text": [
      "Training...\n",
      "Epoch  1, CIFAR-10 Batch 1:  Loss at 2.223637819290161 Validation Accuracy at 0.1834000051021576 Testing Accuracy: 0.15000000596046448\n",
      "Epoch  1, CIFAR-10 Batch 2:  Loss at 2.0634512901306152 Validation Accuracy at 0.2896000146865845 Testing Accuracy: 0.32499998807907104\n",
      "Epoch  1, CIFAR-10 Batch 3:  Loss at 1.7242200374603271 Validation Accuracy at 0.33379998803138733 Testing Accuracy: 0.4000000059604645\n",
      "Epoch  1, CIFAR-10 Batch 4:  Loss at 1.7199604511260986 Validation Accuracy at 0.3871999979019165 Testing Accuracy: 0.3499999940395355\n",
      "Epoch  1, CIFAR-10 Batch 5:  Loss at 1.6609528064727783 Validation Accuracy at 0.4058000147342682 Testing Accuracy: 0.44999998807907104\n",
      "Epoch  2, CIFAR-10 Batch 1:  Loss at 1.8430789709091187 Validation Accuracy at 0.4302000105381012 Testing Accuracy: 0.3499999940395355\n",
      "Epoch  2, CIFAR-10 Batch 2:  Loss at 1.5404131412506104 Validation Accuracy at 0.4496000111103058 Testing Accuracy: 0.5249999761581421\n",
      "Epoch  2, CIFAR-10 Batch 3:  Loss at 1.3799762725830078 Validation Accuracy at 0.4472000002861023 Testing Accuracy: 0.574999988079071\n",
      "Epoch  2, CIFAR-10 Batch 4:  Loss at 1.5135395526885986 Validation Accuracy at 0.47279998660087585 Testing Accuracy: 0.44999998807907104\n",
      "Epoch  2, CIFAR-10 Batch 5:  Loss at 1.4579484462738037 Validation Accuracy at 0.46959999203681946 Testing Accuracy: 0.5\n",
      "Epoch  3, CIFAR-10 Batch 1:  Loss at 1.6736438274383545 Validation Accuracy at 0.48980000615119934 Testing Accuracy: 0.4749999940395355\n",
      "Epoch  3, CIFAR-10 Batch 2:  Loss at 1.464942216873169 Validation Accuracy at 0.4991999864578247 Testing Accuracy: 0.44999998807907104\n",
      "Epoch  3, CIFAR-10 Batch 3:  Loss at 1.2088425159454346 Validation Accuracy at 0.4970000088214874 Testing Accuracy: 0.675000011920929\n",
      "Epoch  3, CIFAR-10 Batch 4:  Loss at 1.320551872253418 Validation Accuracy at 0.5090000033378601 Testing Accuracy: 0.5249999761581421\n",
      "Epoch  3, CIFAR-10 Batch 5:  Loss at 1.3698456287384033 Validation Accuracy at 0.5171999931335449 Testing Accuracy: 0.550000011920929\n",
      "Epoch  4, CIFAR-10 Batch 1:  Loss at 1.5544986724853516 Validation Accuracy at 0.5175999999046326 Testing Accuracy: 0.5249999761581421\n",
      "Epoch  4, CIFAR-10 Batch 2:  Loss at 1.2775843143463135 Validation Accuracy at 0.5424000024795532 Testing Accuracy: 0.5\n",
      "Epoch  4, CIFAR-10 Batch 3:  Loss at 1.1671226024627686 Validation Accuracy at 0.5019999742507935 Testing Accuracy: 0.5\n",
      "Epoch  4, CIFAR-10 Batch 4:  Loss at 1.2458254098892212 Validation Accuracy at 0.5486000180244446 Testing Accuracy: 0.574999988079071\n",
      "Epoch  4, CIFAR-10 Batch 5:  Loss at 1.2775306701660156 Validation Accuracy at 0.5496000051498413 Testing Accuracy: 0.5\n",
      "Epoch  5, CIFAR-10 Batch 1:  Loss at 1.5098137855529785 Validation Accuracy at 0.5370000004768372 Testing Accuracy: 0.550000011920929\n",
      "Epoch  5, CIFAR-10 Batch 2:  Loss at 1.2454913854599 Validation Accuracy at 0.5613999962806702 Testing Accuracy: 0.4749999940395355\n",
      "Epoch  5, CIFAR-10 Batch 3:  Loss at 1.102226972579956 Validation Accuracy at 0.5479999780654907 Testing Accuracy: 0.625\n",
      "Epoch  5, CIFAR-10 Batch 4:  Loss at 1.1887004375457764 Validation Accuracy at 0.5613999962806702 Testing Accuracy: 0.6000000238418579\n",
      "Epoch  5, CIFAR-10 Batch 5:  Loss at 1.2223231792449951 Validation Accuracy at 0.5559999942779541 Testing Accuracy: 0.550000011920929\n",
      "Epoch  6, CIFAR-10 Batch 1:  Loss at 1.3960269689559937 Validation Accuracy at 0.5662000179290771 Testing Accuracy: 0.550000011920929\n",
      "Epoch  6, CIFAR-10 Batch 2:  Loss at 1.2279796600341797 Validation Accuracy at 0.5654000043869019 Testing Accuracy: 0.44999998807907104\n",
      "Epoch  6, CIFAR-10 Batch 3:  Loss at 1.018919587135315 Validation Accuracy at 0.5794000029563904 Testing Accuracy: 0.699999988079071\n",
      "Epoch  6, CIFAR-10 Batch 4:  Loss at 1.1340668201446533 Validation Accuracy at 0.5709999799728394 Testing Accuracy: 0.6000000238418579\n",
      "Epoch  6, CIFAR-10 Batch 5:  Loss at 1.097805142402649 Validation Accuracy at 0.5813999772071838 Testing Accuracy: 0.6000000238418579\n",
      "Epoch  7, CIFAR-10 Batch 1:  Loss at 1.3211829662322998 Validation Accuracy at 0.5929999947547913 Testing Accuracy: 0.574999988079071\n",
      "Epoch  7, CIFAR-10 Batch 2:  Loss at 1.1607344150543213 Validation Accuracy at 0.5748000144958496 Testing Accuracy: 0.550000011920929\n",
      "Epoch  7, CIFAR-10 Batch 3:  Loss at 0.9546549916267395 Validation Accuracy at 0.5745999813079834 Testing Accuracy: 0.675000011920929\n",
      "Epoch  7, CIFAR-10 Batch 4:  Loss at 1.0599110126495361 Validation Accuracy at 0.5950000286102295 Testing Accuracy: 0.699999988079071\n",
      "Epoch  7, CIFAR-10 Batch 5:  Loss at 1.0710651874542236 Validation Accuracy at 0.597599983215332 Testing Accuracy: 0.6000000238418579\n",
      "Epoch  8, CIFAR-10 Batch 1:  Loss at 1.2770969867706299 Validation Accuracy at 0.6047999858856201 Testing Accuracy: 0.6000000238418579\n",
      "Epoch  8, CIFAR-10 Batch 2:  Loss at 1.1016114950180054 Validation Accuracy at 0.5983999967575073 Testing Accuracy: 0.550000011920929\n",
      "Epoch  8, CIFAR-10 Batch 3:  Loss at 0.9219262003898621 Validation Accuracy at 0.5968000292778015 Testing Accuracy: 0.699999988079071\n",
      "Epoch  8, CIFAR-10 Batch 4:  Loss at 1.012719988822937 Validation Accuracy at 0.6119999885559082 Testing Accuracy: 0.7250000238418579\n",
      "Epoch  8, CIFAR-10 Batch 5:  Loss at 1.0791038274765015 Validation Accuracy at 0.5968000292778015 Testing Accuracy: 0.550000011920929\n",
      "Epoch  9, CIFAR-10 Batch 1:  Loss at 1.241202712059021 Validation Accuracy at 0.6137999892234802 Testing Accuracy: 0.5249999761581421\n",
      "Epoch  9, CIFAR-10 Batch 2:  Loss at 1.0327329635620117 Validation Accuracy at 0.6111999750137329 Testing Accuracy: 0.550000011920929\n",
      "Epoch  9, CIFAR-10 Batch 3:  Loss at 0.8770313262939453 Validation Accuracy at 0.5997999906539917 Testing Accuracy: 0.75\n",
      "Epoch  9, CIFAR-10 Batch 4:  Loss at 0.9598153829574585 Validation Accuracy at 0.6105999946594238 Testing Accuracy: 0.699999988079071\n",
      "Epoch  9, CIFAR-10 Batch 5:  Loss at 0.9931726455688477 Validation Accuracy at 0.6043999791145325 Testing Accuracy: 0.574999988079071\n",
      "Epoch 10, CIFAR-10 Batch 1:  Loss at 1.1403696537017822 Validation Accuracy at 0.6204000115394592 Testing Accuracy: 0.6499999761581421\n",
      "Epoch 10, CIFAR-10 Batch 2:  Loss at 0.9474951028823853 Validation Accuracy at 0.6132000088691711 Testing Accuracy: 0.675000011920929\n",
      "Epoch 10, CIFAR-10 Batch 3:  Loss at 0.8554205894470215 Validation Accuracy at 0.6101999878883362 Testing Accuracy: 0.75\n",
      "Epoch 10, CIFAR-10 Batch 4:  Loss at 0.9238718152046204 Validation Accuracy at 0.6118000149726868 Testing Accuracy: 0.6499999761581421\n",
      "Epoch 10, CIFAR-10 Batch 5:  Loss at 0.973091721534729 Validation Accuracy at 0.6212000250816345 Testing Accuracy: 0.625\n",
      "Epoch 11, CIFAR-10 Batch 1:  Loss at 1.0762875080108643 Validation Accuracy at 0.6358000040054321 Testing Accuracy: 0.6499999761581421\n",
      "Epoch 11, CIFAR-10 Batch 2:  Loss at 0.9776294827461243 Validation Accuracy at 0.6299999952316284 Testing Accuracy: 0.625\n",
      "Epoch 11, CIFAR-10 Batch 3:  Loss at 0.7617747783660889 Validation Accuracy at 0.6291999816894531 Testing Accuracy: 0.800000011920929\n",
      "Epoch 11, CIFAR-10 Batch 4:  Loss at 0.8788982629776001 Validation Accuracy at 0.6308000087738037 Testing Accuracy: 0.699999988079071\n",
      "Epoch 11, CIFAR-10 Batch 5:  Loss at 0.9158922433853149 Validation Accuracy at 0.6287999749183655 Testing Accuracy: 0.6000000238418579\n",
      "Epoch 12, CIFAR-10 Batch 1:  Loss at 1.0403363704681396 Validation Accuracy at 0.6439999938011169 Testing Accuracy: 0.6499999761581421\n",
      "Epoch 12, CIFAR-10 Batch 2:  Loss at 0.9309757947921753 Validation Accuracy at 0.6435999870300293 Testing Accuracy: 0.675000011920929\n",
      "Epoch 12, CIFAR-10 Batch 3:  Loss at 0.7266252636909485 Validation Accuracy at 0.6291999816894531 Testing Accuracy: 0.7749999761581421\n",
      "Epoch 12, CIFAR-10 Batch 4:  Loss at 0.8242558240890503 Validation Accuracy at 0.6222000122070312 Testing Accuracy: 0.6499999761581421\n",
      "Epoch 12, CIFAR-10 Batch 5:  Loss at 0.8953288793563843 Validation Accuracy at 0.629800021648407 Testing Accuracy: 0.625\n",
      "Epoch 13, CIFAR-10 Batch 1:  Loss at 1.0465352535247803 Validation Accuracy at 0.6370000243186951 Testing Accuracy: 0.625\n",
      "Epoch 13, CIFAR-10 Batch 2:  Loss at 0.8777534365653992 Validation Accuracy at 0.6503999829292297 Testing Accuracy: 0.699999988079071\n",
      "Epoch 13, CIFAR-10 Batch 3:  Loss at 0.7343367338180542 Validation Accuracy at 0.6402000188827515 Testing Accuracy: 0.824999988079071\n",
      "Epoch 13, CIFAR-10 Batch 4:  Loss at 0.7958087921142578 Validation Accuracy at 0.6435999870300293 Testing Accuracy: 0.75\n",
      "Epoch 13, CIFAR-10 Batch 5:  Loss at 0.9198551177978516 Validation Accuracy at 0.6470000147819519 Testing Accuracy: 0.6499999761581421\n",
      "Epoch 14, CIFAR-10 Batch 1:  Loss at 0.939292311668396 Validation Accuracy at 0.6531999707221985 Testing Accuracy: 0.675000011920929\n",
      "Epoch 14, CIFAR-10 Batch 2:  Loss at 0.8103324174880981 Validation Accuracy at 0.6474000215530396 Testing Accuracy: 0.7250000238418579\n",
      "Epoch 14, CIFAR-10 Batch 3:  Loss at 0.7057694792747498 Validation Accuracy at 0.6517999768257141 Testing Accuracy: 0.8500000238418579\n",
      "Epoch 14, CIFAR-10 Batch 4:  Loss at 0.7722334861755371 Validation Accuracy at 0.6448000073432922 Testing Accuracy: 0.7250000238418579\n",
      "Epoch 14, CIFAR-10 Batch 5:  Loss at 0.8478065729141235 Validation Accuracy at 0.652400016784668 Testing Accuracy: 0.625\n",
      "Epoch 15, CIFAR-10 Batch 1:  Loss at 1.012943983078003 Validation Accuracy at 0.6531999707221985 Testing Accuracy: 0.675000011920929\n",
      "Epoch 15, CIFAR-10 Batch 2:  Loss at 0.8492803573608398 Validation Accuracy at 0.6444000005722046 Testing Accuracy: 0.675000011920929\n",
      "Epoch 15, CIFAR-10 Batch 3:  Loss at 0.7281754612922668 Validation Accuracy at 0.6407999992370605 Testing Accuracy: 0.800000011920929\n",
      "Epoch 15, CIFAR-10 Batch 4:  Loss at 0.7402323484420776 Validation Accuracy at 0.6420000195503235 Testing Accuracy: 0.699999988079071\n",
      "Epoch 15, CIFAR-10 Batch 5:  Loss at 0.7847098112106323 Validation Accuracy at 0.6589999794960022 Testing Accuracy: 0.699999988079071\n",
      "Epoch 16, CIFAR-10 Batch 1:  Loss at 0.9048592448234558 Validation Accuracy at 0.6564000248908997 Testing Accuracy: 0.699999988079071\n",
      "Epoch 16, CIFAR-10 Batch 2:  Loss at 0.7408984899520874 Validation Accuracy at 0.6449999809265137 Testing Accuracy: 0.7749999761581421\n",
      "Epoch 16, CIFAR-10 Batch 3:  Loss at 0.6704317331314087 Validation Accuracy at 0.6534000039100647 Testing Accuracy: 0.824999988079071\n",
      "Epoch 16, CIFAR-10 Batch 4:  Loss at 0.7180688381195068 Validation Accuracy at 0.6647999882698059 Testing Accuracy: 0.75\n",
      "Epoch 16, CIFAR-10 Batch 5:  Loss at 0.7518735527992249 Validation Accuracy at 0.6686000227928162 Testing Accuracy: 0.7250000238418579\n",
      "Epoch 17, CIFAR-10 Batch 1:  Loss at 0.8817070722579956 Validation Accuracy at 0.6692000031471252 Testing Accuracy: 0.625\n",
      "Epoch 17, CIFAR-10 Batch 2:  Loss at 0.7636140584945679 Validation Accuracy at 0.6615999937057495 Testing Accuracy: 0.75\n",
      "Epoch 17, CIFAR-10 Batch 3:  Loss at 0.6528692245483398 Validation Accuracy at 0.6674000024795532 Testing Accuracy: 0.8500000238418579\n",
      "Epoch 17, CIFAR-10 Batch 4:  Loss at 0.7009624242782593 Validation Accuracy at 0.6610000133514404 Testing Accuracy: 0.824999988079071\n",
      "Epoch 17, CIFAR-10 Batch 5:  Loss at 0.7831751704216003 Validation Accuracy at 0.6675999760627747 Testing Accuracy: 0.675000011920929\n",
      "Epoch 18, CIFAR-10 Batch 1:  Loss at 0.9109388589859009 Validation Accuracy at 0.6779999732971191 Testing Accuracy: 0.625\n",
      "Epoch 18, CIFAR-10 Batch 2:  Loss at 0.7148928642272949 Validation Accuracy at 0.6589999794960022 Testing Accuracy: 0.7749999761581421\n",
      "Epoch 18, CIFAR-10 Batch 3:  Loss at 0.6133721470832825 Validation Accuracy at 0.6736000180244446 Testing Accuracy: 0.800000011920929\n",
      "Epoch 18, CIFAR-10 Batch 4:  Loss at 0.65398770570755 Validation Accuracy at 0.66839998960495 Testing Accuracy: 0.824999988079071\n",
      "Epoch 18, CIFAR-10 Batch 5:  Loss at 0.7403793334960938 Validation Accuracy at 0.671999990940094 Testing Accuracy: 0.7250000238418579\n",
      "Epoch 19, CIFAR-10 Batch 1:  Loss at 0.876006007194519 Validation Accuracy at 0.6725999712944031 Testing Accuracy: 0.699999988079071\n",
      "Epoch 19, CIFAR-10 Batch 2:  Loss at 0.6868112683296204 Validation Accuracy at 0.671999990940094 Testing Accuracy: 0.7749999761581421\n",
      "Epoch 19, CIFAR-10 Batch 3:  Loss at 0.6179002523422241 Validation Accuracy at 0.6728000044822693 Testing Accuracy: 0.8500000238418579\n",
      "Epoch 19, CIFAR-10 Batch 4:  Loss at 0.6530194282531738 Validation Accuracy at 0.6729999780654907 Testing Accuracy: 0.800000011920929\n",
      "Epoch 19, CIFAR-10 Batch 5:  Loss at 0.7289677858352661 Validation Accuracy at 0.675000011920929 Testing Accuracy: 0.800000011920929\n",
      "Epoch 20, CIFAR-10 Batch 1:  Loss at 0.8659400939941406 Validation Accuracy at 0.6812000274658203 Testing Accuracy: 0.699999988079071\n",
      "Epoch 20, CIFAR-10 Batch 2:  Loss at 0.6775171756744385 Validation Accuracy at 0.6777999997138977 Testing Accuracy: 0.800000011920929\n",
      "Epoch 20, CIFAR-10 Batch 3:  Loss at 0.6173781156539917 Validation Accuracy at 0.6754000186920166 Testing Accuracy: 0.8500000238418579\n",
      "Epoch 20, CIFAR-10 Batch 4:  Loss at 0.6068039536476135 Validation Accuracy at 0.6764000058174133 Testing Accuracy: 0.824999988079071\n",
      "Epoch 20, CIFAR-10 Batch 5:  Loss at 0.7619026899337769 Validation Accuracy at 0.6790000200271606 Testing Accuracy: 0.7250000238418579\n"
     ]
    }
   ],
   "source": [
    "\"\"\"\n",
    "DON'T MODIFY ANYTHING IN THIS CELL\n",
    "\"\"\"\n",
    "save_model_path = './image_classification'\n",
    "\n",
    "print('Training...')\n",
    "with tf.Session() as sess:\n",
    "    # Initializing the variables\n",
    "    sess.run(tf.global_variables_initializer())\n",
    "    \n",
    "    # Training cycle\n",
    "    for epoch in range(epochs):\n",
    "        # Loop over all batches\n",
    "        n_batches = 5\n",
    "        for batch_i in range(1, n_batches + 1):\n",
    "            for batch_features, batch_labels in helper.load_preprocess_training_batch(batch_i, batch_size):\n",
    "                train_neural_network(sess, optimizer, keep_probability, batch_features, batch_labels)\n",
    "            print('Epoch {:>2}, CIFAR-10 Batch {}:  '.format(epoch + 1, batch_i), end='')\n",
    "            print_stats(sess, batch_features, batch_labels, cost, accuracy)\n",
    "            \n",
    "    # Save Model\n",
    "    saver = tf.train.Saver()\n",
    "    save_path = saver.save(sess, save_model_path)"
   ]
  },
  {
   "cell_type": "markdown",
   "metadata": {},
   "source": [
    "# Checkpoint\n",
    "The model has been saved to disk.\n",
    "## Test Model\n",
    "Test your model against the test dataset.  This will be your final accuracy. You should have an accuracy greater than 50%. If you don't, keep tweaking the model architecture and parameters."
   ]
  },
  {
   "cell_type": "code",
   "execution_count": 147,
   "metadata": {
    "collapsed": false
   },
   "outputs": [
    {
     "name": "stdout",
     "output_type": "stream",
     "text": [
      "Testing Accuracy: 0.6739517405063291\n",
      "\n"
     ]
    },
    {
     "data": {
      "image/png": "[encoded data removed]",
      "text/plain": [
       "<matplotlib.figure.Figure at 0x116771ba8>"
      ]
     },
     "metadata": {
      "image/png": {
       "height": 319,
       "width": 355
      }
     },
     "output_type": "display_data"
    }
   ],
   "source": [
    "\"\"\"\n",
    "DON'T MODIFY ANYTHING IN THIS CELL\n",
    "\"\"\"\n",
    "%matplotlib inline\n",
    "%config InlineBackend.figure_format = 'retina'\n",
    "\n",
    "import tensorflow as tf\n",
    "import pickle\n",
    "import helper\n",
    "import random\n",
    "\n",
    "# Set batch size if not already set\n",
    "try:\n",
    "    if batch_size:\n",
    "        pass\n",
    "except NameError:\n",
    "    batch_size = 64\n",
    "\n",
    "save_model_path = './image_classification'\n",
    "n_samples = 4\n",
    "top_n_predictions = 3\n",
    "\n",
    "def test_model():\n",
    "    \"\"\"\n",
    "    Test the saved model against the test dataset\n",
    "    \"\"\"\n",
    "\n",
    "    test_features, test_labels = pickle.load(open('preprocess_training.p', mode='rb'))\n",
    "    loaded_graph = tf.Graph()\n",
    "\n",
    "    with tf.Session(graph=loaded_graph) as sess:\n",
    "        # Load model\n",
    "        loader = tf.train.import_meta_graph(save_model_path + '.meta')\n",
    "        loader.restore(sess, save_model_path)\n",
    "\n",
    "        # Get Tensors from loaded model\n",
    "        loaded_x = loaded_graph.get_tensor_by_name('x:0')\n",
    "        loaded_y = loaded_graph.get_tensor_by_name('y:0')\n",
    "        loaded_keep_prob = loaded_graph.get_tensor_by_name('keep_prob:0')\n",
    "        loaded_logits = loaded_graph.get_tensor_by_name('logits:0')\n",
    "        loaded_acc = loaded_graph.get_tensor_by_name('accuracy:0')\n",
    "        \n",
    "        # Get accuracy in batches for memory limitations\n",
    "        test_batch_acc_total = 0\n",
    "        test_batch_count = 0\n",
    "        \n",
    "        for train_feature_batch, train_label_batch in helper.batch_features_labels(test_features, test_labels, batch_size):\n",
    "            test_batch_acc_total += sess.run(\n",
    "                loaded_acc,\n",
    "                feed_dict={loaded_x: train_feature_batch, loaded_y: train_label_batch, loaded_keep_prob: 1.0})\n",
    "            test_batch_count += 1\n",
    "\n",
    "        print('Testing Accuracy: {}\\n'.format(test_batch_acc_total/test_batch_count))\n",
    "\n",
    "        # Print Random Samples\n",
    "        random_test_features, random_test_labels = tuple(zip(*random.sample(list(zip(test_features, test_labels)), n_samples)))\n",
    "        random_test_predictions = sess.run(\n",
    "            tf.nn.top_k(tf.nn.softmax(loaded_logits), top_n_predictions),\n",
    "            feed_dict={loaded_x: random_test_features, loaded_y: random_test_labels, loaded_keep_prob: 1.0})\n",
    "        helper.display_image_predictions(random_test_features, random_test_labels, random_test_predictions)\n",
    "\n",
    "\n",
    "test_model()"
   ]
  },
  {
   "cell_type": "markdown",
   "metadata": {},
   "source": [
    "## Why 50-70% Accuracy?\n",
    "You might be wondering why you can't get an accuracy any higher. First things first, 50% isn't bad for a simple CNN.  Pure guessing would get you 10% accuracy. However, you might notice people are getting scores [well above 70%](http://rodrigob.github.io/are_we_there_yet/build/classification_datasets_results.html#43494641522d3130).  That's because we haven't taught you all there is to know about neural networks. We still need to cover a few more techniques.\n",
    "## Submitting This Project\n",
    "When submitting this project, make sure to run all the cells before saving the notebook.  Save the notebook file as \"dlnd_image_classification.ipynb\" and save it as a HTML file under \"File\" -> \"Download as\".  Include the \"helper.py\" and \"problem_unittests.py\" files in your submission."
   ]
  }
 ],
 "metadata": {
  "kernelspec": {
   "display_name": "Python 3",
   "language": "python",
   "name": "python3"
  },
  "language_info": {
   "codemirror_mode": {
    "name": "ipython",
    "version": 3
   },
   "file_extension": ".py",
   "mimetype": "text/x-python",
   "name": "python",
   "nbconvert_exporter": "python",
   "pygments_lexer": "ipython3",
   "version": "3.5.2"
  },
  "widgets": {
   "state": {},
   "version": "1.1.2"
  }
 },
 "nbformat": 4,
 "nbformat_minor": 0
}
